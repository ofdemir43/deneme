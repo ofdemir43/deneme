{
  "nbformat": 4,
  "nbformat_minor": 0,
  "metadata": {
    "colab": {
      "name": "patika",
      "provenance": [],
      "authorship_tag": "ABX9TyMICVxlLFHDKSA/uZY2Jhq0",
      "include_colab_link": true
    },
    "kernelspec": {
      "name": "python3",
      "display_name": "Python 3"
    },
    "language_info": {
      "name": "python"
    }
  },
  "cells": [
    {
      "cell_type": "markdown",
      "metadata": {
        "id": "view-in-github",
        "colab_type": "text"
      },
      "source": [
        "<a href=\"https://colab.research.google.com/github/ofdemir43/deneme/blob/main/patika.ipynb\" target=\"_parent\"><img src=\"https://colab.research.google.com/assets/colab-badge.svg\" alt=\"Open In Colab\"/></a>"
      ]
    },
    {
      "cell_type": "code",
      "execution_count": 18,
      "metadata": {
        "colab": {
          "base_uri": "https://localhost:8080/"
        },
        "id": "DvPmKqKDcrrT",
        "outputId": "c172ed98-4a97-4c52-fa53-68f35c73b826"
      },
      "outputs": [
        {
          "output_type": "stream",
          "name": "stdout",
          "text": [
            "[[7, 6, 5], [4, 3], [2, 1]]\n"
          ]
        }
      ],
      "source": [
        "a = [[1, 2], [3, 4], [5, 6, 7]]\n",
        "def reverse(a):\n",
        "    a.reverse()\n",
        "    for i in a:\n",
        "        if(type(i)==list):  \n",
        "            reverse(i)\n",
        "\n",
        "reverse(a)\n",
        "print(a)"
      ]
    }
  ]
}