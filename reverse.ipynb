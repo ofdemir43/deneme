{
  "nbformat": 4,
  "nbformat_minor": 0,
  "metadata": {
    "colab": {
      "name": "reverse",
      "provenance": [],
      "authorship_tag": "ABX9TyMICVxlLFHDKSA/uZY2Jhq0",
      "include_colab_link": true
    },
    "kernelspec": {
      "name": "python3",
      "display_name": "Python 3"
    },
    "language_info": {
      "name": "python"
    }
  },
  "cells": [
    {
      "cell_type": "markdown",
      "metadata": {
        "id": "view-in-github",
        "colab_type": "text"
      },
      "source": [
        "<a href=\"https://colab.research.google.com/github/ofdemir43/deneme/blob/main/reverse.ipynb\" target=\"_parent\"><img src=\"https://colab.research.google.com/assets/colab-badge.svg\" alt=\"Open In Colab\"/></a>"
      ]
    },
    {
      "cell_type": "code",
      "execution_count": 20,
      "metadata": {
        "colab": {
          "base_uri": "https://localhost:8080/"
        },
        "id": "DvPmKqKDcrrT",
        "outputId": "288bb32d-4b75-4ce0-9e9b-9de60718b9a5"
      },
      "outputs": [
        {
          "output_type": "stream",
          "name": "stdout",
          "text": [
            "[1, 'a', 'cat', 2, 3, 'dog', 4, 5]\n"
          ]
        }
      ],
      "source": [
        "a = [[1, 2], [3, 4], [5, 6, 7]]\n",
        "def reverse(a):\n",
        "    a.reverse()\n",
        "    for i in a:\n",
        "        if(type(i)==list):  \n",
        "            reverse(i)\n",
        "\n",
        "reverse(a)\n",
        "print(a)"
      ]
    }
  ]
}